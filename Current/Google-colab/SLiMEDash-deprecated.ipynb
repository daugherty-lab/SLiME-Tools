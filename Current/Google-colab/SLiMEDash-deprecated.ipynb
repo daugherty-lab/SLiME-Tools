{
 "cells": [
  {
   "cell_type": "code",
   "execution_count": null,
   "metadata": {},
   "outputs": [],
   "source": [
    "#@title <- Click this to install dependencies before reading the info below. (~1-3min)\n",
    "# deps installation\n",
    "import os\n",
    "\n",
    "try:\n",
    "  import streamlit\n",
    "    \n",
    "except AttributeError: #ImportError:\n",
    "  # declare runtime kill to allow use of new libraries/modules\n",
    "  print('Stopping RUNTIME! Please run again.')\n",
    "  # install streamlit\n",
    "  !pip install -q streamlit\n",
    "  os.kill(os.getpid(), 9)\n",
    "\n",
    "# download SLiMEDash streamlit app from github\n",
    "CHECK_SLiMED = os.path.exists('/content/SLiMED.py')\n",
    "if not CHECK_SLiMED:\n",
    "  !wget https://raw.githubusercontent.com/daugherty-lab/SLiME-Tools/master/Current/SLiMED.py -O SLiMED.py\n",
    "  print(\"SLiMEDash app downloaded.\")\n",
    "else:\n",
    "  print(\"SLiMEDash app already exists.\")\n",
    "\n",
    "# install ngrok\n",
    "CHECK_NGROKZIP = os.path.exists('/content/ngrok-stable-linux-amd64.zip')\n",
    "if not CHECK_NGROKZIP:\n",
    "  !wget https://bin.equinox.io/c/4VmDzA7iaHb/ngrok-stable-linux-amd64.zip -O ngrok-stable-linux-amd64.zip\n",
    "  print(\"ngrok.zip downloaded.\")\n",
    "else:\n",
    "  print(\"ngrok.zip already exists.\")\n",
    "\n",
    "CHECK_NGROK = os.path.exists('/content/ngrok')  \n",
    "# If folder doesn't exist, then unzip to create it.\n",
    "if not CHECK_NGROK:\n",
    "  !unzip ngrok-stable-linux-amd64.zip\n",
    "else:\n",
    "  print(\"/content/ngrok folder already exists.\")\n"
   ]
  },
  {
   "cell_type": "code",
   "execution_count": null,
   "metadata": {},
   "outputs": [],
   "source": [
    "get_ipython().system_raw('./ngrok http 8501 &')\n",
    "!curl -s http://localhost:4040/api/tunnels | python3 -c \\\n",
    "    'import sys, json; print(\"Execute the next cell and the go to the following URL: \" +json.load(sys.stdin)[\"tunnels\"][0][\"public_url\"])'"
   ]
  },
  {
   "cell_type": "code",
   "execution_count": null,
   "metadata": {},
   "outputs": [],
   "source": [
    "!streamlit run /content/SLiMED.py -- # -flatdata # -clvdata #"
   ]
  }
 ],
 "metadata": {
  "language_info": {
   "name": "python"
  },
  "orig_nbformat": 4
 },
 "nbformat": 4,
 "nbformat_minor": 2
}
