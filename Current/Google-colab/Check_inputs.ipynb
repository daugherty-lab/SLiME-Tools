{
 "cells": [
  {
   "cell_type": "code",
   "execution_count": null,
   "metadata": {},
   "outputs": [],
   "source": [
    "#@title <- Search for desired RefSeq asm_name\n",
    "#@markdown If the table is missing, run this cell (play button). <br>\n",
    "#@markdown Then, use the top-right \"Filter\" button to keyword search\n",
    "import pandas as pd\n",
    "\n",
    "from google.colab import data_table\n",
    "\n",
    "# Download assembly summary file with available proteomes\n",
    "!wget -q 'https://ftp.ncbi.nlm.nih.gov/genomes/refseq/vertebrate_mammalian/assembly_summary.txt' -O mammal_assembly_summary.txt\n",
    "\n",
    "# Make data tables in this notebook interactive\n",
    "data_table.enable_dataframe_formatter()\n",
    "\n",
    "# Create dataframe from summary file\n",
    "infile_ind = [7, 15, 19] # 'Speciesname', 'GenomeID', 'link'\n",
    "mammal_df = pd.read_csv(\n",
    "    \"mammal_assembly_summary.txt\", \n",
    "    sep = '\\t',\n",
    "    skiprows=1,\n",
    "    usecols = infile_ind\n",
    ")\n",
    "\n",
    "# Output entries\n",
    "print(\"Entries found:\")\n",
    "display(mammal_df)"
   ]
  }
 ],
 "metadata": {
  "language_info": {
   "name": "python"
  },
  "orig_nbformat": 4
 },
 "nbformat": 4,
 "nbformat_minor": 2
}
